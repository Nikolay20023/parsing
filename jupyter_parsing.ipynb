{
 "cells": [
  {
   "cell_type": "code",
   "execution_count": 10,
   "metadata": {},
   "outputs": [],
   "source": [
    "import pandas as pd\n",
    "df = pd.read_excel('C:\\\\Dev\\\\parsing\\\\data\\\\2021.xlsx', keep_default_na=False)\n",
    "df['Адрес объекта'] = df['Адрес объекта'].str.replace('возле', ' ')\n",
    "df['Адрес объекта'] = df['Адрес объекта'].str.replace('около', ' ')\n",
    "df.to_excel('C:\\\\Dev\\\\parsing\\\\data\\\\2021.xlsx')"
   ]
  }
 ],
 "metadata": {
  "kernelspec": {
   "display_name": "Python 3.7.9 ('venv': venv)",
   "language": "python",
   "name": "python3"
  },
  "language_info": {
   "codemirror_mode": {
    "name": "ipython",
    "version": 3
   },
   "file_extension": ".py",
   "mimetype": "text/x-python",
   "name": "python",
   "nbconvert_exporter": "python",
   "pygments_lexer": "ipython3",
   "version": "3.7.9"
  },
  "orig_nbformat": 4,
  "vscode": {
   "interpreter": {
    "hash": "d0bceae7e78585a2a8172ee20ad0f9c2b589d998dc3ff0428f667318cd81bca0"
   }
  }
 },
 "nbformat": 4,
 "nbformat_minor": 2
}
